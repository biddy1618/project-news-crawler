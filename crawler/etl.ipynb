{
 "cells": [
  {
   "cell_type": "markdown",
   "metadata": {},
   "source": [
    "# Script for transforming data"
   ]
  },
  {
   "cell_type": "markdown",
   "metadata": {},
   "source": [
    "Format of the JSON files are inappropriate:\n",
    "* It is not a list of articles\n",
    "* It has keys as dates\n",
    "\n",
    "So, the idea is to transform files from JSON to JSON lists without date keys."
   ]
  },
  {
   "cell_type": "code",
   "execution_count": 1,
   "metadata": {},
   "outputs": [],
   "source": [
    "from pathlib import Path\n",
    "import json"
   ]
  },
  {
   "cell_type": "code",
   "execution_count": 14,
   "metadata": {},
   "outputs": [],
   "source": [
    "DATA_FOLDER = Path.joinpath(Path(Path.cwd()).parent, 'data/')\n",
    "SAVE_FOLDER = Path.joinpath(Path(Path.cwd()).parent, 'data/ru/')\n",
    "SAVE_FOLDER.mkdir(parents=True, exist_ok=True)\n",
    "\n",
    "for year in list(range(2012, 2022)):\n",
    "    # read from specific year\n",
    "    year = str(year)\n",
    "    YEAR_FOLDER = Path.joinpath(DATA_FOLDER, year)\n",
    "    FILES = list(YEAR_FOLDER.glob('*.json'))\n",
    "    \n",
    "    # save to specific year\n",
    "    YEAR_FOLDER_SAVE = Path.joinpath(SAVE_FOLDER, year)\n",
    "    YEAR_FOLDER_SAVE.mkdir(parents=True, exist_ok=True)\n",
    "    \n",
    "    for month in FILES:\n",
    "        with open(month, 'r') as f:\n",
    "            data = json.load(f)\n",
    "        results = []\n",
    "        for key in data.keys():\n",
    "            results.extend(data[key])\n",
    "        MONTH_FILE = Path.joinpath(YEAR_FOLDER_SAVE, month.name)\n",
    "        with open(MONTH_FILE, 'w', encoding='utf8') as json_file:\n",
    "            json.dump(results, json_file, ensure_ascii=False)\n"
   ]
  }
 ],
 "metadata": {
  "kernelspec": {
   "display_name": "Python 3.9.13 ('project-news-crawler')",
   "language": "python",
   "name": "python3"
  },
  "language_info": {
   "codemirror_mode": {
    "name": "ipython",
    "version": 3
   },
   "file_extension": ".py",
   "mimetype": "text/x-python",
   "name": "python",
   "nbconvert_exporter": "python",
   "pygments_lexer": "ipython3",
   "version": "3.9.13"
  },
  "orig_nbformat": 4,
  "vscode": {
   "interpreter": {
    "hash": "9da460c27398f18e6779933e2bec45fa235f8f0ca483ea5c4cdb93b43914902b"
   }
  }
 },
 "nbformat": 4,
 "nbformat_minor": 2
}
