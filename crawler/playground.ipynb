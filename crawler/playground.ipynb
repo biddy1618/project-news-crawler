{
 "cells": [
  {
   "cell_type": "code",
   "execution_count": null,
   "metadata": {},
   "outputs": [],
   "source": [
    "import os\n",
    "import sys\n",
    "module_path = os.path.abspath(os.path.join('..'))\n",
    "if module_path not in sys.path:\n",
    "    sys.path.append(module_path)"
   ]
  },
  {
   "cell_type": "code",
   "execution_count": null,
   "metadata": {},
   "outputs": [],
   "source": [
    "\n",
    "import requests\n",
    "import logging\n",
    "import time\n",
    "import json\n",
    "import re\n",
    "\n",
    "import urllib.parse as urlparse\n",
    "\n",
    "\n",
    "from bs4 import BeautifulSoup as bs\n",
    "from typing import Dict, List, Optional\n",
    "from crawler import Crawler"
   ]
  },
  {
   "cell_type": "code",
   "execution_count": null,
   "metadata": {},
   "outputs": [],
   "source": [
    "crawler = Crawler()"
   ]
  },
  {
   "cell_type": "code",
   "execution_count": 84,
   "metadata": {},
   "outputs": [],
   "source": [
    "url = 'https://www.inform.kz/ru/v-zhanaozene-prodolzhaetsya-rabota-po-blagoustroystvu-goroda_a2430452'\n",
    "url2 = 'https://www.inform.kz/ru/prezident-kazahstana-provel-peregovory-s-general-nym-sekretarem-oon_a3981340'"
   ]
  },
  {
   "cell_type": "code",
   "execution_count": 94,
   "metadata": {},
   "outputs": [],
   "source": [
    "r_page = crawler.get_url(url2)\n",
    "# crawler.extract_article(r_page)"
   ]
  },
  {
   "cell_type": "code",
   "execution_count": 95,
   "metadata": {},
   "outputs": [],
   "source": [
    "soup = bs(r_page.content, 'html.parser')"
   ]
  },
  {
   "cell_type": "code",
   "execution_count": 110,
   "metadata": {},
   "outputs": [
    {
     "data": {
      "text/plain": [
       "'Ринат Дусумов'"
      ]
     },
     "execution_count": 110,
     "metadata": {},
     "output_type": "execute_result"
    }
   ],
   "source": [
    "soup.find('div', class_='data_author_bl').find('a').get_text().strip()"
   ]
  },
  {
   "cell_type": "code",
   "execution_count": 107,
   "metadata": {},
   "outputs": [
    {
     "data": {
      "text/plain": [
       "['ООН', 'Президент Казахстана']"
      ]
     },
     "execution_count": 107,
     "metadata": {},
     "output_type": "execute_result"
    }
   ],
   "source": [
    "[t.get_text() for t in soup.find('div', class_='keywords_bl').find_all('a')]"
   ]
  },
  {
   "cell_type": "code",
   "execution_count": 101,
   "metadata": {},
   "outputs": [
    {
     "data": {
      "text/plain": [
       "'НЬЮ-ЙОРК. КАЗИНФОРМ - Программа рабочего визита Касым-Жомарта Токаева в Нью-Йорк для участия в 77-й сессии Генеральной Ассамблеи ООН завершилась переговорами с Генеральным секретарем ООН Антониу Гутерришем, передает МИА «Казинформ» со ссылкой на пресс-службу Акорды. В ходе встречи, прошедшей в конструктивной и дружественной атмосфере, стороны обсудили состояние и перспективы укрепления многостороннего сотрудничества между Казахстаном и ООН. Особое внимание было уделено усилиям, направленным на выработку коллективных подходов к решению насущных вызовов современности. Президент высоко оценил лидерство Антониу Гутерриша на посту Генерального секретаря ООН и заявил о полной поддержке его инициативе о созыве «Саммита будущего» в 2024 году. Касым-Жомарт Токаев высказал надежду, что итоги этого важного мероприятия будут способствовать осуществлению Целям устойчивого развития. Стороны также рассмотрели ход реализации инициативы Главы нашего государства по созданию в городе Алматы Хаба ООН по Целям устойчивого развития для Центральной Азии и Афганистана. Генеральный секретарь ООН заявил о поддержке этой важной инициативы. Он также высоко оценил, реализуемые под руководством Президента Казахстана масштабные реформы в стране. В завершение Глава государства пригласил Антониу Гутерриша совершить визит в Казахстан.'"
      ]
     },
     "execution_count": 101,
     "metadata": {},
     "output_type": "execute_result"
    }
   ],
   "source": [
    "re.sub(r'\\s\\s+', ' ', soup.find('div', class_='body_article_bl').get_text().strip())"
   ]
  },
  {
   "cell_type": "code",
   "execution_count": 93,
   "metadata": {},
   "outputs": [
    {
     "ename": "AttributeError",
     "evalue": "'NoneType' object has no attribute 'find_all'",
     "output_type": "error",
     "traceback": [
      "\u001b[0;31m---------------------------------------------------------------------------\u001b[0m",
      "\u001b[0;31mAttributeError\u001b[0m                            Traceback (most recent call last)",
      "Cell \u001b[0;32mIn [93], line 1\u001b[0m\n\u001b[0;32m----> 1\u001b[0m [l[\u001b[38;5;124m'\u001b[39m\u001b[38;5;124mhref\u001b[39m\u001b[38;5;124m'\u001b[39m]\u001b[38;5;241m.\u001b[39mstrip() \u001b[38;5;28;01mfor\u001b[39;00m l \u001b[38;5;129;01min\u001b[39;00m \u001b[43msoup\u001b[49m\u001b[38;5;241;43m.\u001b[39;49m\u001b[43mfind\u001b[49m\u001b[43m(\u001b[49m\u001b[38;5;124;43m'\u001b[39;49m\u001b[38;5;124;43mdiv\u001b[39;49m\u001b[38;5;124;43m'\u001b[39;49m\u001b[43m,\u001b[49m\u001b[43m \u001b[49m\u001b[43mclass_\u001b[49m\u001b[38;5;241;43m=\u001b[39;49m\u001b[38;5;124;43m'\u001b[39;49m\u001b[38;5;124;43mframe_news_article_adapt\u001b[39;49m\u001b[38;5;124;43m'\u001b[39;49m\u001b[43m)\u001b[49m\u001b[38;5;241;43m.\u001b[39;49m\u001b[43mfind_all\u001b[49m(\u001b[38;5;124m'\u001b[39m\u001b[38;5;124ma\u001b[39m\u001b[38;5;124m'\u001b[39m)]\n",
      "\u001b[0;31mAttributeError\u001b[0m: 'NoneType' object has no attribute 'find_all'"
     ]
    }
   ],
   "source": [
    "\n",
    "[l['href'].strip() for l in soup.find('div', class_='frame_news_article_adapt').find_all('a')]"
   ]
  },
  {
   "cell_type": "code",
   "execution_count": null,
   "metadata": {},
   "outputs": [],
   "source": [
    "re.sub(r\"\\s\\s+\", \" \", soup.find('div', class_='title_article_bl').get_text().strip())"
   ]
  },
  {
   "cell_type": "code",
   "execution_count": null,
   "metadata": {},
   "outputs": [],
   "source": [
    "re.sub(r\"\\s\\s+\", \" \", soup.find('div', class_='time_article_bl').get_text().strip())"
   ]
  },
  {
   "cell_type": "code",
   "execution_count": 112,
   "metadata": {},
   "outputs": [],
   "source": [
    "resp = crawler.get_url('https://www.inform.kz/ru/archive', {'date': '01.01.2012'})"
   ]
  },
  {
   "cell_type": "code",
   "execution_count": null,
   "metadata": {},
   "outputs": [],
   "source": [
    "crawler"
   ]
  },
  {
   "cell_type": "code",
   "execution_count": 113,
   "metadata": {},
   "outputs": [],
   "source": [
    "soup = bs(resp.content, 'html.parser')"
   ]
  },
  {
   "cell_type": "code",
   "execution_count": 114,
   "metadata": {},
   "outputs": [],
   "source": [
    "link_divs = soup.find('div', class_='news-list__col')"
   ]
  },
  {
   "cell_type": "code",
   "execution_count": 115,
   "metadata": {},
   "outputs": [
    {
     "data": {
      "text/plain": [
       "['/ru/prezident-francii-prizval-poddannyh-ne-ustraivat-isteriku_a2430381',\n",
       " '/ru/kitayskie-analitiki-predskazyvayut-obostrenie-geopoliticheskoy-napryazhennosti-v-2012g_a2430369',\n",
       " '/ru/samye-ozhidaemye-avtonovinki-2012-goda_a2430350',\n",
       " '/ru/akim-almatinskoy-oblasti-pozdravil-zhiteley-zhetysuskogo-kraya-s-novym-godom_a2430349',\n",
       " '/ru/kazahov-vnov-ob-edinili-s-ariycami-smi_a2430376',\n",
       " '/ru/zapadnoe-polusharie-zemli-vstrechaet-novyy-god_a2430393',\n",
       " '/ru/sud-evraziyskogo-ekonomicheskogo-soobschestva-nachnet-svoyu-rabotu-v-minske_a2430379',\n",
       " '/ru/sem-yam-policeyskih-pogibshih-v-protivostoyanii-s-tarazskim-terroristom-vydeleny-kvartiry-obzor-respublikanskoy-pressy-za-1-yanvarya_a2430377',\n",
       " '/ru/mezhdunarodnaya-panorama-samye-yarkie-mirovye-novosti-2011-goda_a2430368',\n",
       " '/ru/v-kazahstane-sostavili-reyting-samyh-opasnyh-dorog-smi_a2430384',\n",
       " '/ru/v-medeuskom-rayone-almaty-sgorel-chastnyy-dom-pogib-pozhiloy-chelovek_a2430361',\n",
       " '/ru/po-dannym-na-31-dekabrya-2011g-v-zhanaozene-742-cheloveka-podali-zayavlenie-o-trudoustroystve_a2430382',\n",
       " '/ru/samye-krasivye-i-udachlivye-zvezdy-kazahstanskogo-kino-i-estrady-v-2011-godu_a2430388',\n",
       " '/ru/grandioznym-salyutom-i-fakel-nymi-shestviyami-vstretili-novyy-god-v-velikobritanii_a2430356',\n",
       " '/ru/na-filippinah-ot-pirotehniki-postradali-200-chelovek_a2430344',\n",
       " '/ru/v-vko-pozhar-unes-zhizni-pozhilogo-muzhchiny-i-2-letnego-rebenka-esche-dvoe-malyshey-ugoreli_a2430367',\n",
       " '/ru/v-ekibastuze-pri-pozhare-v-zhilom-dome-pogib-muzhchina-esche-odin-gospitalizirovan_a2430360',\n",
       " '/ru/eksperty-nazvali-10-riskov-dlya-global-noy-ekonomiki-v-2012-godu_a2430394',\n",
       " '/ru/edinoe-ekonomicheskoe-prostranstvo-obrelo-formu_a2430357',\n",
       " '/ru/v-moskve-zaderzhany-uchastniki-mitinga-na-triumfal-noy-ploschadi_a2430355']"
      ]
     },
     "execution_count": 115,
     "metadata": {},
     "output_type": "execute_result"
    }
   ],
   "source": [
    "list(set([d['href'].strip() for d in link_divs.find_all('a')]))"
   ]
  },
  {
   "cell_type": "code",
   "execution_count": null,
   "metadata": {},
   "outputs": [],
   "source": [
    "[l['href'].strip() for l in soup.find('p', class_='pagination').find_all('a')]"
   ]
  },
  {
   "cell_type": "code",
   "execution_count": null,
   "metadata": {},
   "outputs": [],
   "source": []
  }
 ],
 "metadata": {
  "kernelspec": {
   "display_name": "Python 3.9.13 ('project-news-crawler')",
   "language": "python",
   "name": "python3"
  },
  "language_info": {
   "codemirror_mode": {
    "name": "ipython",
    "version": 3
   },
   "file_extension": ".py",
   "mimetype": "text/x-python",
   "name": "python",
   "nbconvert_exporter": "python",
   "pygments_lexer": "ipython3",
   "version": "3.9.13"
  },
  "orig_nbformat": 4,
  "vscode": {
   "interpreter": {
    "hash": "9da460c27398f18e6779933e2bec45fa235f8f0ca483ea5c4cdb93b43914902b"
   }
  }
 },
 "nbformat": 4,
 "nbformat_minor": 2
}
